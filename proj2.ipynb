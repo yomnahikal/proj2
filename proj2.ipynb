{
 "cells": [
  {
   "cell_type": "markdown",
   "metadata": {},
   "source": [
    "### Description \n",
    "> #### In this game, the user gets the first chance to pick the option among Rock, paper and scissors. After that computer select from the remaining two choices(randomly), the winner is decided as per the rules.\n",
    "- Rock vs paper-> paper wins\n",
    "- Rock vs scissor-> Rock wins\n",
    "- paper vs scissor-> scissor wins."
   ]
  },
  {
   "cell_type": "code",
   "execution_count": 3,
   "metadata": {},
   "outputs": [],
   "source": [
    "import random \n",
    "from collections import Counter\n"
   ]
  },
  {
   "cell_type": "code",
   "execution_count": 4,
   "metadata": {},
   "outputs": [],
   "source": [
    "choices=(\"rock paper scissors\")\n",
    "result=\"\""
   ]
  },
  {
   "cell_type": "code",
   "execution_count": 5,
   "metadata": {},
   "outputs": [],
   "source": [
    "player_wins = 0 \n",
    "ties=0\n",
    "computer_wins= 0 "
   ]
  },
  {
   "cell_type": "code",
   "execution_count": 6,
   "metadata": {},
   "outputs": [],
   "source": [
    "choices= choices.split(' ')"
   ]
  },
  {
   "cell_type": "code",
   "execution_count": 7,
   "metadata": {},
   "outputs": [
    {
     "data": {
      "text/plain": [
       "'rock'"
      ]
     },
     "execution_count": 7,
     "metadata": {},
     "output_type": "execute_result"
    }
   ],
   "source": [
    "computer_choice= random.choice(choices)\n",
    "computer_choice"
   ]
  },
  {
   "cell_type": "code",
   "execution_count": 8,
   "metadata": {},
   "outputs": [
    {
     "name": "stdout",
     "output_type": "stream",
     "text": [
      "Please enter your name: yomna\n",
      "Hello yomna you are about to play \"rock-paper-scissors\", Are you ready? \n",
      "please write ready if you are : ready\n"
     ]
    }
   ],
   "source": [
    "user= str(input('Please enter your name: '))\n",
    "print(f'Hello {user} you are about to play \\\"rock-paper-scissors\\\", Are you ready? ')\n",
    "ready= str(input(\"please write ready if you are : \")).strip().lower()"
   ]
  },
  {
   "cell_type": "code",
   "execution_count": 9,
   "metadata": {},
   "outputs": [
    {
     "name": "stdout",
     "output_type": "stream",
     "text": [
      "Let's gooo!!\n"
     ]
    }
   ],
   "source": [
    "while ready not in ['ready', 'no']:  \n",
    "    print(\"Invalid input! Please write 'ready' or 'no'.\")\n",
    "    ready = input(\"Please write 'ready' if you are, or 'no' to exit: \").strip().lower()\n",
    "\n",
    "if ready == 'no':  \n",
    "    print(\"No problem, we can play later! Goodbye!\")\n",
    "else:\n",
    "    print(\"Let's gooo!!\")\n",
    "print(\"Thanks for playing! Goodbye!\")\n"
   ]
  },
  {
   "cell_type": "code",
   "execution_count": 10,
   "metadata": {},
   "outputs": [
    {
     "name": "stdout",
     "output_type": "stream",
     "text": [
      "enter one of the options \"rock-paper-scissors\"rock\n"
     ]
    }
   ],
   "source": [
    "player_choices=str(input(\"enter one of the options \\\"rock-paper-scissors\\\"\")).strip().lower"
   ]
  },
  {
   "cell_type": "code",
   "execution_count": null,
   "metadata": {},
   "outputs": [
    {
     "name": "stdout",
     "output_type": "stream",
     "text": [
      "invalid input !, please choose only ether rock,paper or scissors\n"
     ]
    }
   ],
   "source": [
    "while player_choices not in choices:\n",
    "    print('invalid input !, please choose only ether rock,paper or scissors')\n",
    "    player_choices=str(input(\"enter one of the options \\\"rock-paper-scissors\\\"\")).strip().lower\n",
    "    \n",
    "print (f'alraghit so you chose :{player_choices}')"
   ]
  },
  {
   "cell_type": "code",
   "execution_count": null,
   "metadata": {},
   "outputs": [],
   "source": [
    "if not player_choices.isalpha():\n",
    "    print('Enter letter Only')"
   ]
  },
  {
   "cell_type": "code",
   "execution_count": null,
   "metadata": {},
   "outputs": [],
   "source": [
    "if computer == player_choices:\n",
    "    result= \"it\\'s a tie!\"\n",
    "    ties += 1\n",
    "    elif computer == \"scissors\" and player_choices ==\"rock\" or \\\n",
    "    computer == \"rock\" and player_choices ==\"paper\" or \\ \n",
    "    computer == \"paper\" and player_choices ==\"scissors\" :\n",
    "         result = \" YOU WIN!\"\n",
    "        player_wins += 1\n",
    "    else :\n",
    "        result= \"computer wins!\"\n",
    "        computer_wins += 1\n",
    "    "
   ]
  },
  {
   "cell_type": "code",
   "execution_count": null,
   "metadata": {},
   "outputs": [],
   "source": [
    "print(f'the results so far : You - {player_wins}, Computer-{computer_wins}, Ties - {ties}')"
   ]
  },
  {
   "cell_type": "code",
   "execution_count": null,
   "metadata": {},
   "outputs": [],
   "source": [
    "while True:\n",
    "        play_again = input(\"Do you want to play again? (yes/no): \").strip().lower()\n",
    "        if play_again in ['yes', 'no']:\n",
    "            break\n",
    "        print(\"Invalid input! Please enter 'yes' or 'no'.\")"
   ]
  },
  {
   "cell_type": "code",
   "execution_count": null,
   "metadata": {},
   "outputs": [],
   "source": [
    "while play_again == \"yes\":  \n",
    "    while True:\n",
    "        player_choice = input(\"Enter one of the options 'rock', 'paper', or 'scissors': \").strip().lower()\n",
    "        if player_choice in choices:\n",
    "            break\n",
    "        print(\"Invalid input! Please choose only 'rock', 'paper', or 'scissors'.\")\n"
   ]
  },
  {
   "cell_type": "code",
   "execution_count": 1,
   "metadata": {},
   "outputs": [
    {
     "name": "stdout",
     "output_type": "stream",
     "text": [
      "Please enter your name: mahmoud\n",
      "Hello mahmoud, you are about to play \"rock-paper-scissors\". Are you ready?\n",
      "Please write 'ready' if you are, or 'no' to exit: ready\n",
      "Let's gooo!!\n",
      "Enter one of the options 'rock', 'paper', or 'scissors': scissors\n",
      "You chose: scissors\n",
      "Computer chose: scissors\n",
      "It's a tie!\n",
      "Score so far: You - 0, Computer - 0, Ties - 1\n",
      "Do you want to play again? (yes/no): yes\n",
      "Enter one of the options 'rock', 'paper', or 'scissors': rock\n",
      "You chose: rock\n",
      "Computer chose: paper\n",
      "Computer wins!\n",
      "Score so far: You - 0, Computer - 1, Ties - 1\n",
      "Do you want to play again? (yes/no): yes\n",
      "Enter one of the options 'rock', 'paper', or 'scissors': rock\n",
      "You chose: rock\n",
      "Computer chose: rock\n",
      "It's a tie!\n",
      "Score so far: You - 0, Computer - 1, Ties - 2\n",
      "Do you want to play again? (yes/no): yes\n",
      "Enter one of the options 'rock', 'paper', or 'scissors': paper\n",
      "You chose: paper\n",
      "Computer chose: rock\n",
      "YOU WIN!\n",
      "Score so far: You - 1, Computer - 1, Ties - 2\n",
      "Do you want to play again? (yes/no): yes\n",
      "Enter one of the options 'rock', 'paper', or 'scissors': scissors\n",
      "You chose: scissors\n",
      "Computer chose: rock\n",
      "Computer wins!\n",
      "Score so far: You - 1, Computer - 2, Ties - 2\n",
      "Do you want to play again? (yes/no): yes\n",
      "Enter one of the options 'rock', 'paper', or 'scissors': scissors\n",
      "You chose: scissors\n",
      "Computer chose: rock\n",
      "Computer wins!\n",
      "Score so far: You - 1, Computer - 3, Ties - 2\n",
      "Do you want to play again? (yes/no): yes\n",
      "Enter one of the options 'rock', 'paper', or 'scissors': paper\n",
      "You chose: paper\n",
      "Computer chose: paper\n",
      "It's a tie!\n",
      "Score so far: You - 1, Computer - 3, Ties - 3\n",
      "Do you want to play again? (yes/no): no\n",
      "Thanks for playing! Goodbye!\n"
     ]
    }
   ],
   "source": [
    "import random  \n",
    "\n",
    "choices = [\"rock\", \"paper\", \"scissors\"]\n",
    "player_wins = 0\n",
    "computer_wins = 0\n",
    "ties = 0\n",
    "\n",
    "user = input('Please enter your name: ').strip()\n",
    "print(f'Hello {user}, you are about to play \"rock-paper-scissors\". Are you ready?')\n",
    "\n",
    "ready = input(\"Please write 'ready' if you are, or 'no' to exit: \").strip().lower()\n",
    "while ready not in ['ready', 'no']:  \n",
    "    print(\"Invalid input! Please write 'ready' or 'no'.\")\n",
    "    ready = input(\"Please write 'ready' if you are, or 'no' to exit: \").strip().lower()\n",
    "\n",
    "if ready == 'no':  \n",
    "    print(\"No problem, we can play later! Goodbye!\")\n",
    "else:\n",
    "    print(\"Let's gooo!!\")\n",
    "\n",
    "play_again = \"yes\"\n",
    "while play_again == \"yes\":  \n",
    "    while True:\n",
    "        player_choice = input(\"Enter one of the options 'rock', 'paper', or 'scissors': \").strip().lower()\n",
    "        if player_choice in choices:\n",
    "            break\n",
    "        print(\"Invalid input! Please choose only 'rock', 'paper', or 'scissors'.\")\n",
    "\n",
    "    computer_choice = random.choice(choices)\n",
    "\n",
    "    print(f\"You chose: {player_choice}\")\n",
    "    print(f\"Computer chose: {computer_choice}\")\n",
    "\n",
    "    if computer_choice == player_choice:\n",
    "        result = \"It's a tie!\"\n",
    "        ties += 1\n",
    "    elif (computer_choice == \"scissors\" and player_choice == \"rock\") or \\\n",
    "         (computer_choice == \"rock\" and player_choice == \"paper\") or \\\n",
    "         (computer_choice == \"paper\" and player_choice == \"scissors\"):\n",
    "        result = \"YOU WIN!\"\n",
    "        player_wins += 1\n",
    "    else:\n",
    "        result = \"Computer wins!\"\n",
    "        computer_wins += 1\n",
    "\n",
    "    print(result)\n",
    "    print(f\"Score so far: You - {player_wins}, Computer - {computer_wins}, Ties - {ties}\")\n",
    "\n",
    "    while True:\n",
    "        play_again = input(\"Do you want to play again? (yes/no): \").strip().lower()\n",
    "        if play_again in ['yes', 'no']:\n",
    "            break\n",
    "        print(\"Invalid input! Please enter 'yes' or 'no'.\")\n",
    "\n",
    "print(\"Thanks for playing! Goodbye!\")"
   ]
  },
  {
   "cell_type": "code",
   "execution_count": null,
   "metadata": {},
   "outputs": [],
   "source": []
  }
 ],
 "metadata": {
  "kernelspec": {
   "display_name": "Python 3",
   "language": "python",
   "name": "python3"
  },
  "language_info": {
   "codemirror_mode": {
    "name": "ipython",
    "version": 3
   },
   "file_extension": ".py",
   "mimetype": "text/x-python",
   "name": "python",
   "nbconvert_exporter": "python",
   "pygments_lexer": "ipython3",
   "version": "3.7.6"
  }
 },
 "nbformat": 4,
 "nbformat_minor": 4
}
